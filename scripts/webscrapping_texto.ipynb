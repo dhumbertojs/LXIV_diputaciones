{
 "cells": [
  {
   "cell_type": "code",
   "execution_count": 11,
   "metadata": {},
   "outputs": [],
   "source": [
    "from requests_html import HTMLSession\n",
    "import pandas as pd"
   ]
  },
  {
   "cell_type": "code",
   "execution_count": 19,
   "metadata": {},
   "outputs": [],
   "source": [
    "url_cvs=\"https://raw.githubusercontent.com/dhumbertojs/LXIV_diputaciones/main/output/iniciativas.csv\"\n",
    "csv=pd.read_csv(url_cvs, index_col=0,encoding = \"ISO-8859-1\")"
   ]
  },
  {
   "cell_type": "code",
   "execution_count": 46,
   "metadata": {},
   "outputs": [],
   "source": [
    "def texto_gaceta(turl):\n",
    "    url=(turl)\n",
    "    with HTMLSession() as sess:\n",
    "        r = sess.get(url)\n",
    "    if r.html.find(\"div[id='Contenido']\", first=True) == None:\n",
    "        texto=\"No disponible\"\n",
    "    else:\n",
    "        texto=r.html.find(\"div[id='Contenido']\", first=True).text\n",
    "    return texto"
   ]
  },
  {
   "cell_type": "code",
   "execution_count": 47,
   "metadata": {},
   "outputs": [],
   "source": [
    "csv[\"Texto_de_Gaceta\"]=csv['hipervinculo_al_documento'].apply(texto_gaceta)"
   ]
  },
  {
   "cell_type": "code",
   "execution_count": 56,
   "metadata": {},
   "outputs": [],
   "source": [
    "csv.to_csv(r\"iniciativas_texto.csv\",index=False)"
   ]
  }
 ],
 "metadata": {
  "kernelspec": {
   "display_name": "Python 3",
   "language": "python",
   "name": "python3"
  },
  "language_info": {
   "codemirror_mode": {
    "name": "ipython",
    "version": 3
   },
   "file_extension": ".py",
   "mimetype": "text/x-python",
   "name": "python",
   "nbconvert_exporter": "python",
   "pygments_lexer": "ipython3",
   "version": "3.7.9"
  }
 },
 "nbformat": 4,
 "nbformat_minor": 4
}
